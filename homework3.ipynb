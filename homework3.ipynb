{
 "cells": [
  {
   "cell_type": "markdown",
   "metadata": {},
   "source": [
    "## 3.1"
   ]
  },
  {
   "cell_type": "markdown",
   "metadata": {},
   "source": [
    "### a."
   ]
  },
  {
   "cell_type": "markdown",
   "metadata": {},
   "source": [
    "Entropy(initial) = -( 1/2 \\* log2(1/2) + 1/2 \\* log2(1/2) )<br>\n",
    "                 = -( 1/2 \\* -1 + 1/2 \\* -1 )<br>\n",
    "                 = -( -1/2 - 1/2 )<br>\n",
    "                 = -( -1 )<br>\n",
    "                 = 1<br>\n",
    "\n",
    "Price:WillWait \n",
    "\n",
    "\\$$$:Yes - 1/12\n",
    "\n",
    "\\$$$:No  - 2/12\n",
    "\n",
    "\\$$:Yes  - 2/12\n",
    "\n",
    "\\$$:No   - 0/12\n",
    "\n",
    "\\$:Yes   - 3/12\n",
    "\n",
    "\\$:No    - 4/12\n",
    "\n",
    "Remainder(Price)  = 7/12 \\* Entropy(\\$) + 2/12 \\* Entropy(\\$\\$) + 3/12 \\* Entropy(\\$\\$\\$)<br><br>\n",
    "                  = 7/12 \\* - (4/7 \\* log2(4/7) + 3/7 \\* log2(3/7))<br>\n",
    "                  + 2/12 \\* 0<br>\n",
    "                  + 3/12 \\* - (1/3 \\* log2(1/3) + 2/3 \\* log2(2/3))<br><br>\n",
    "                  = 7/12 \\* - (4/7 \\* -0.80735492205 + 3/7 \\* -1.22239242134)<br>\n",
    "                  + 0<br>\n",
    "                  + 3/12 \\* - (1/3 \\* -1.58496250072 + 2/3 \\* -0.58496250072)<br><br>\n",
    "                  = 7/12 \\* - (-0.98522813603) + 0 + 3/12 \\* - (-0.91829583405)<br><br>\n",
    "                  = 0.57471641268 + 0 + 0.22957395851<br><br>\n",
    "                  = 0.8042903712<br><br>\n",
    "\n",
    "Gain(Hungry) = Entropy(initial) - Remainder(Price) <br>\n",
    "             = 1 - 0.8042903712<br>\n",
    "             = 0.1957096288<br>\n",
    "\n",
    "This question would likely be worse than the Patrons? question, but\n",
    "better than the Type? question. Gain(Patrons) was significantly higher\n",
    "than Gain(Hungry), at 0.54, but Gain(Type) was lower, at 0. However,\n",
    "there might be a question below Price? that perfectly divides the\n",
    "remaining Yes/No WillWait responses, resulting in it being better than\n",
    "Patrons?, but purely on the basis of information gain it is inferior to\n",
    "Patrons?."
   ]
  },
  {
   "cell_type": "markdown",
   "metadata": {},
   "source": [
    "## 3.2"
   ]
  },
  {
   "cell_type": "markdown",
   "metadata": {},
   "source": [
    "Our network that we built in class essentially had 3 layers: a layer with 2 input nodes, a layer below that with an AND-weighted and an OR-weighted node, and a final layer below that with a single NAND-weighted node. The layers were densely connected and strictly sequential; both input nodes on layer 1 and the bias fed into both nodes on layer 2, and both nodes on layer 2, along with a bias, fed into the final AND node on layer 3. The overall result was that the final output was a 1 only if the AND node on layer 2 was false, but the OR node on layer 2 was true. And this would obviously only occur if either input node was true, but not both, or an XOR.\n",
    "\n",
    "However, this neural network structure could be simplified if we no longer require the network to be densely connected or strictly sequential. A network with 2 input nodes, a middle layer of a single node, and a final output layer of a single output node could create an identical result. Both input nodes would feed into the middle layer node, but they would also skip the middle layer to feed into the final layer as well. The middle node would feed into the final layer node for a total of 3 inputs into the final node. The middle layer node would be a simple AND node, outputting a 1 only if the two input nodes were 1s. The final layer would be sort of a 3-input OR node; it would output a 1 if either of the first layer input nodes was 1, unless the middle layer also output a 1. Essentially, it would act as both an OR for the first layer nodes, and a NAND for the first layer nodes. In short, the final output is a 1 only if either input node was true, but not both, or an XOR.\n",
    "\n",
    "Poorly drawn example schematic:\n",
    "\n",
    "[input]-- $\\;\\;\\;\\;\\;\\;$ --[input]\n",
    "<br>\n",
    "$\\;\\;\\;\\;$|$\\;\\;\\;\\;\\;\\;$|$\\;\\;\\;\\;\\;$|$\\;\\;\\;\\;\\;\\;\\;$|\n",
    "<br>\n",
    "$\\;\\;\\;\\;$|$\\;\\;\\;\\;$ 1 $\\;\\;$ 1 $\\;\\;\\;\\;\\;$|\n",
    "<br> \n",
    "$\\;\\;\\;\\;$|$\\;\\;\\;\\;\\;\\;$|$\\;\\;\\;\\;\\;$|$\\;\\;\\;\\;\\;\\;\\;$|\n",
    "<br> \n",
    "$\\;\\;\\;\\;$|$\\;\\;\\;\\;\\;\\;$[1.1]$\\;\\;\\;\\;\\;\\;\\;$|\n",
    "<br>\n",
    "$\\;\\;\\;\\;$|$\\;\\;\\;\\;\\;\\;\\;\\;$|$\\;\\;\\;\\;\\;\\;\\;\\;\\;$|\n",
    "<br>\n",
    "$\\;\\;$ 1 $\\;\\;\\;\\;$ -2 $\\;\\;\\;\\;\\;$ 1\n",
    "<br>\n",
    "$\\;\\;\\;\\;$|$\\;\\;\\;\\;\\;\\;\\;\\;$|$\\;\\;\\;\\;\\;\\;\\;\\;\\;$|\n",
    "<br>\n",
    "$\\;\\;\\;\\;$------[0.1]------\n",
    "    \n",
    "Legend: --#-- is the input weight.\n",
    "        [#] is the threshold for outputting 1 instead of 0.\n",
    "        \n",
    "Example: \n",
    "\n",
    "0 for both inputs. Middle layer node has an input of 0 \\* 1 + 0 \\* 1 = 0. 0 < 1.1, so it has an output of 0. Final layer node has an input of 0 \\* 1 + 0 \\* -2 + 0 \\* 1 = 0. 0 < 0.1 so it outputs a 0.\n",
    "\n",
    "1 for one input, 0 for the other. Middle layer node has an input of 1 \\* 1 + 0 \\* 1 = 1. 1 < 1.1, so it has an output of 0. Final layer node has an input of 1 \\* 1 + 0 \\* -2 + 0 \\* 1 = 1. 1 > 0.1 so it outputs a 1.\n",
    "\n",
    "1 for both inputs. Middle layer node has an input of 1 \\* 1 + 1 \\* 1 = 2. 2 > 1.1, so it has an output of 1. Final layer node has an input of 1 \\* 1 + 1 \\* -2 + 1 \\* 1 = 0. 0 < 0.1 so it outputs a 0.\n",
    "\n",
    "Overall:\n",
    "\n",
    "Input1 | Input2 | Output<br>\n",
    "0 $\\;\\;\\;\\;\\;\\;$ | 0 $\\;\\;\\;\\;\\;$ | 0<br>\n",
    "1 $\\;\\;\\;\\;\\;\\;$ | 0 $\\;\\;\\;\\;\\;$ | 1<br>\n",
    "0 $\\;\\;\\;\\;\\;\\;$ | 1 $\\;\\;\\;\\;\\;$ | 1<br>\n",
    "1 $\\;\\;\\;\\;\\;\\;$ | 1 $\\;\\;\\;\\;\\;$ | 0<br>"
   ]
  },
  {
   "cell_type": "markdown",
   "metadata": {},
   "source": [
    "## 3.3"
   ]
  },
  {
   "cell_type": "code",
   "execution_count": 32,
   "metadata": {},
   "outputs": [
    {
     "data": {
      "text/html": [
       "<div>\n",
       "<style scoped>\n",
       "    .dataframe tbody tr th:only-of-type {\n",
       "        vertical-align: middle;\n",
       "    }\n",
       "\n",
       "    .dataframe tbody tr th {\n",
       "        vertical-align: top;\n",
       "    }\n",
       "\n",
       "    .dataframe thead th {\n",
       "        text-align: right;\n",
       "    }\n",
       "</style>\n",
       "<table border=\"1\" class=\"dataframe\">\n",
       "  <thead>\n",
       "    <tr style=\"text-align: right;\">\n",
       "      <th></th>\n",
       "      <th>crim</th>\n",
       "      <th>zn</th>\n",
       "      <th>indus</th>\n",
       "      <th>chas</th>\n",
       "      <th>nox</th>\n",
       "      <th>rm</th>\n",
       "      <th>age</th>\n",
       "      <th>dis</th>\n",
       "      <th>rad</th>\n",
       "      <th>tax</th>\n",
       "      <th>ptratio</th>\n",
       "      <th>b</th>\n",
       "      <th>lstat</th>\n",
       "      <th>medv</th>\n",
       "    </tr>\n",
       "  </thead>\n",
       "  <tbody>\n",
       "    <tr>\n",
       "      <th>405</th>\n",
       "      <td>67.92080</td>\n",
       "      <td>0.0</td>\n",
       "      <td>18.10</td>\n",
       "      <td>0</td>\n",
       "      <td>0.693</td>\n",
       "      <td>5.683</td>\n",
       "      <td>100.0</td>\n",
       "      <td>1.4254</td>\n",
       "      <td>24</td>\n",
       "      <td>666</td>\n",
       "      <td>20.2</td>\n",
       "      <td>384.97</td>\n",
       "      <td>22.98</td>\n",
       "      <td>5.0</td>\n",
       "    </tr>\n",
       "    <tr>\n",
       "      <th>60</th>\n",
       "      <td>0.14932</td>\n",
       "      <td>25.0</td>\n",
       "      <td>5.13</td>\n",
       "      <td>0</td>\n",
       "      <td>0.453</td>\n",
       "      <td>5.741</td>\n",
       "      <td>66.2</td>\n",
       "      <td>7.2254</td>\n",
       "      <td>8</td>\n",
       "      <td>284</td>\n",
       "      <td>19.7</td>\n",
       "      <td>395.11</td>\n",
       "      <td>13.15</td>\n",
       "      <td>18.7</td>\n",
       "    </tr>\n",
       "    <tr>\n",
       "      <th>455</th>\n",
       "      <td>4.75237</td>\n",
       "      <td>0.0</td>\n",
       "      <td>18.10</td>\n",
       "      <td>0</td>\n",
       "      <td>0.713</td>\n",
       "      <td>6.525</td>\n",
       "      <td>86.5</td>\n",
       "      <td>2.4358</td>\n",
       "      <td>24</td>\n",
       "      <td>666</td>\n",
       "      <td>20.2</td>\n",
       "      <td>50.92</td>\n",
       "      <td>18.13</td>\n",
       "      <td>14.1</td>\n",
       "    </tr>\n",
       "    <tr>\n",
       "      <th>9</th>\n",
       "      <td>0.17004</td>\n",
       "      <td>12.5</td>\n",
       "      <td>7.87</td>\n",
       "      <td>0</td>\n",
       "      <td>0.524</td>\n",
       "      <td>6.004</td>\n",
       "      <td>85.9</td>\n",
       "      <td>6.5921</td>\n",
       "      <td>5</td>\n",
       "      <td>311</td>\n",
       "      <td>15.2</td>\n",
       "      <td>386.71</td>\n",
       "      <td>17.10</td>\n",
       "      <td>18.9</td>\n",
       "    </tr>\n",
       "    <tr>\n",
       "      <th>121</th>\n",
       "      <td>0.07165</td>\n",
       "      <td>0.0</td>\n",
       "      <td>25.65</td>\n",
       "      <td>0</td>\n",
       "      <td>0.581</td>\n",
       "      <td>6.004</td>\n",
       "      <td>84.1</td>\n",
       "      <td>2.1974</td>\n",
       "      <td>2</td>\n",
       "      <td>188</td>\n",
       "      <td>19.1</td>\n",
       "      <td>377.67</td>\n",
       "      <td>14.27</td>\n",
       "      <td>20.3</td>\n",
       "    </tr>\n",
       "  </tbody>\n",
       "</table>\n",
       "</div>"
      ],
      "text/plain": [
       "         crim    zn  indus  chas    nox     rm    age     dis  rad  tax  \\\n",
       "405  67.92080   0.0  18.10     0  0.693  5.683  100.0  1.4254   24  666   \n",
       "60    0.14932  25.0   5.13     0  0.453  5.741   66.2  7.2254    8  284   \n",
       "455   4.75237   0.0  18.10     0  0.713  6.525   86.5  2.4358   24  666   \n",
       "9     0.17004  12.5   7.87     0  0.524  6.004   85.9  6.5921    5  311   \n",
       "121   0.07165   0.0  25.65     0  0.581  6.004   84.1  2.1974    2  188   \n",
       "\n",
       "     ptratio       b  lstat  medv  \n",
       "405     20.2  384.97  22.98   5.0  \n",
       "60      19.7  395.11  13.15  18.7  \n",
       "455     20.2   50.92  18.13  14.1  \n",
       "9       15.2  386.71  17.10  18.9  \n",
       "121     19.1  377.67  14.27  20.3  "
      ]
     },
     "execution_count": 32,
     "metadata": {},
     "output_type": "execute_result"
    }
   ],
   "source": [
    "import numpy as np\n",
    "import pandas as pd\n",
    "boston_df = pd.read_csv(\"https://raw.githubusercontent.com/selva86/datasets/master/BostonHousing.csv\")\n",
    "boston_df = boston_df.reindex(np.random.permutation(boston_df.index))\n",
    "boston_df.head()"
   ]
  },
  {
   "cell_type": "markdown",
   "metadata": {},
   "source": [
    "### a."
   ]
  },
  {
   "cell_type": "code",
   "execution_count": 33,
   "metadata": {},
   "outputs": [
    {
     "data": {
      "text/plain": [
       "(506, 14)"
      ]
     },
     "execution_count": 33,
     "metadata": {},
     "output_type": "execute_result"
    }
   ],
   "source": [
    "boston_df.shape"
   ]
  },
  {
   "cell_type": "markdown",
   "metadata": {},
   "source": [
    "We have 506 samples. Each sample has 14 features."
   ]
  },
  {
   "cell_type": "markdown",
   "metadata": {},
   "source": [
    "### b."
   ]
  },
  {
   "cell_type": "code",
   "execution_count": 34,
   "metadata": {},
   "outputs": [],
   "source": [
    "train_data = boston_df.head(404)\n",
    "val_data = train_data.tail(101)\n",
    "train_data = train_data.head(303)\n",
    "test_data = boston_df.tail(104)"
   ]
  },
  {
   "cell_type": "code",
   "execution_count": 35,
   "metadata": {},
   "outputs": [
    {
     "data": {
      "text/plain": [
       "(303, 14)"
      ]
     },
     "execution_count": 35,
     "metadata": {},
     "output_type": "execute_result"
    }
   ],
   "source": [
    "train_data.shape"
   ]
  },
  {
   "cell_type": "code",
   "execution_count": 36,
   "metadata": {},
   "outputs": [
    {
     "data": {
      "text/plain": [
       "(101, 14)"
      ]
     },
     "execution_count": 36,
     "metadata": {},
     "output_type": "execute_result"
    }
   ],
   "source": [
    "val_data.shape"
   ]
  },
  {
   "cell_type": "code",
   "execution_count": 37,
   "metadata": {},
   "outputs": [
    {
     "data": {
      "text/plain": [
       "(104, 14)"
      ]
     },
     "execution_count": 37,
     "metadata": {},
     "output_type": "execute_result"
    }
   ],
   "source": [
    "test_data.shape"
   ]
  },
  {
   "cell_type": "markdown",
   "metadata": {},
   "source": [
    "train_data is our training set.\n",
    "val_data is our validation set.\n",
    "test_data is our testing set.\n",
    "\n",
    "Our training set has 303 samples. Our validation set has 101 samples. Our test set has 104 samples."
   ]
  },
  {
   "cell_type": "markdown",
   "metadata": {},
   "source": [
    "### c."
   ]
  },
  {
   "cell_type": "code",
   "execution_count": 38,
   "metadata": {},
   "outputs": [],
   "source": [
    "boston_df['proportion_black'] = boston_df[['b']].apply(lambda x: ((x ** 0.5)/ 1000) + 0.63)"
   ]
  },
  {
   "cell_type": "markdown",
   "metadata": {},
   "source": [
    "'proportion_black' is the proportion of black people by town. Since 'b' represents 1000 * (proportion_black-0.63) ^ 2, adding a synthetic variable that backtransforms this equation may be useful, giving us less altered, raw data. This could create opportunities for a model to predict things like the student/teacher ratio based on the proportion of black people by town, potentially indicating if there is systemic racism in this regard."
   ]
  },
  {
   "cell_type": "code",
   "execution_count": 39,
   "metadata": {},
   "outputs": [
    {
     "data": {
      "text/plain": [
       "(506, 15)"
      ]
     },
     "execution_count": 39,
     "metadata": {},
     "output_type": "execute_result"
    }
   ],
   "source": [
    "boston_df.shape"
   ]
  },
  {
   "cell_type": "code",
   "execution_count": null,
   "metadata": {},
   "outputs": [],
   "source": []
  }
 ],
 "metadata": {
  "kernelspec": {
   "display_name": "Python 3.7 (tensorflow)",
   "language": "python",
   "name": "tensorflow"
  },
  "language_info": {
   "codemirror_mode": {
    "name": "ipython",
    "version": 3
   },
   "file_extension": ".py",
   "mimetype": "text/x-python",
   "name": "python",
   "nbconvert_exporter": "python",
   "pygments_lexer": "ipython3",
   "version": "3.7.7"
  }
 },
 "nbformat": 4,
 "nbformat_minor": 4
}