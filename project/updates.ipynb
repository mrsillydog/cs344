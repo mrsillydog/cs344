{
 "cells": [
  {
   "cell_type": "markdown",
   "metadata": {},
   "source": [
    "Since the project walkthrough, I have better optimized my network to perform better on fashion_mnist by including several MaxPooling2D layers and removed the CustomVariationalLayer, using the negative log likelihood instead. Additionally, I have added a graph of the loss and val_loss, helping visualize overfitting. Finally, I have trained my network on mnist and cifar10, to gauge its ability in comparison to Chollet's network on other datasets and also to gauge whether it can generalize to other datasets well."
   ]
  },
  {
   "cell_type": "code",
   "execution_count": null,
   "metadata": {},
   "outputs": [],
   "source": []
  }
 ],
 "metadata": {
  "kernelspec": {
   "display_name": "Python 3.7 (tensorflow)",
   "language": "python",
   "name": "tensorflow"
  },
  "language_info": {
   "codemirror_mode": {
    "name": "ipython",
    "version": 3
   },
   "file_extension": ".py",
   "mimetype": "text/x-python",
   "name": "python",
   "nbconvert_exporter": "python",
   "pygments_lexer": "ipython3",
   "version": "3.7.7"
  }
 },
 "nbformat": 4,
 "nbformat_minor": 4
}
